{
 "cells": [
  {
   "cell_type": "markdown",
   "id": "7af4cbee",
   "metadata": {},
   "source": [
    "### 1. Create the below pattern using nested for loop in Python.\n",
    "######  *\n",
    "######  * *\n",
    "######  * * *\n",
    "######  * * * *\n",
    "######  * * * * *\n",
    "######  * * * *\n",
    "######  * * *\n",
    "######  * *\n",
    "######  *"
   ]
  },
  {
   "cell_type": "code",
   "execution_count": 21,
   "id": "e1b68f8b",
   "metadata": {},
   "outputs": [
    {
     "name": "stdout",
     "output_type": "stream",
     "text": [
      "Enter dimention of figure - 9\n",
      "*\n",
      "**\n",
      "***\n",
      "****\n",
      "*****\n",
      "****\n",
      "***\n",
      "**\n",
      "*\n"
     ]
    }
   ],
   "source": [
    "import numpy as np\n",
    "n = int(input(\"Enter dimention of figure - \"))\n",
    "count = 1\n",
    "midpoint=int(np.ceil(n/2))\n",
    "rev = midpoint\n",
    "if n%2==0:\n",
    "    print('Enter a Valid dimention')\n",
    "else:\n",
    "    while (count <= n):\n",
    "        if count <= midpoint:\n",
    "            for i in range(count):\n",
    "                print('*',end=\"\")      \n",
    "        else:\n",
    "            rev = rev - 1            \n",
    "            for i in range(rev):\n",
    "                print('*',end=\"\")\n",
    "        print(\"\")\n",
    "        count = count+1;"
   ]
  },
  {
   "cell_type": "markdown",
   "id": "a454f302",
   "metadata": {},
   "source": [
    "### 2. Write a Python program to reverse a word after accepting the input from the user.\n",
    "#### Sample Output:\n",
    "- Input word: ineuron\n",
    "- Output: norueni"
   ]
  },
  {
   "cell_type": "code",
   "execution_count": 22,
   "id": "0c92992e",
   "metadata": {},
   "outputs": [
    {
     "name": "stdout",
     "output_type": "stream",
     "text": [
      "Input Word - ineuron\n",
      "Output Word -  norueni\n"
     ]
    }
   ],
   "source": [
    "inp = input('Input Word - ')\n",
    "print('Output Word - ',inp[::-1])"
   ]
  }
 ],
 "metadata": {
  "kernelspec": {
   "display_name": "Python 3",
   "language": "python",
   "name": "python3"
  },
  "language_info": {
   "codemirror_mode": {
    "name": "ipython",
    "version": 3
   },
   "file_extension": ".py",
   "mimetype": "text/x-python",
   "name": "python",
   "nbconvert_exporter": "python",
   "pygments_lexer": "ipython3",
   "version": "3.7.9"
  }
 },
 "nbformat": 4,
 "nbformat_minor": 5
}
